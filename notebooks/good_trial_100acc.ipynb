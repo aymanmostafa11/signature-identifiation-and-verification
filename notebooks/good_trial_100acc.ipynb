{
  "nbformat": 4,
  "nbformat_minor": 0,
  "metadata": {
    "colab": {
      "provenance": []
    },
    "kernelspec": {
      "name": "python3",
      "display_name": "Python 3"
    },
    "language_info": {
      "name": "python"
    }
  },
  "cells": [
    {
      "cell_type": "code",
      "execution_count": null,
      "metadata": {
        "id": "J61acoJ0EmL_"
      },
      "outputs": [],
      "source": [
        "!unzip train_test_dataset.zip -d data"
      ]
    },
    {
      "cell_type": "code",
      "source": [
        "import tensorflow as tf\n",
        "from tensorflow import keras\n",
        "import tensorflow.keras.utils as utils\n",
        "from google.colab.patches import cv2_imshow\n"
      ],
      "metadata": {
        "id": "Z_hzBAtUFE9v"
      },
      "execution_count": 2,
      "outputs": []
    },
    {
      "cell_type": "code",
      "source": [
        "BATCH_SIZE = 32\n",
        "IMG_SIZE = (256, 256)\n",
        "SEED = 42\n",
        "COLOR_MODE = \"grayscale\"\n",
        "\n",
        "train_path = \"/content/data/train_test_dataset/train\"\n",
        "test_path =  \"/content/data/train_test_dataset/test\""
      ],
      "metadata": {
        "id": "rnhTMJ2fHoza"
      },
      "execution_count": 3,
      "outputs": []
    },
    {
      "cell_type": "code",
      "source": [
        "train_data = utils.image_dataset_from_directory(train_path,subset='training' ,validation_split=0.2, seed = 42, image_size=IMG_SIZE, batch_size=BATCH_SIZE,\n",
        "                                                color_mode=COLOR_MODE)\n",
        "print('-------------------------')\n",
        "test_data = utils.image_dataset_from_directory(test_path, seed = 42, image_size=IMG_SIZE, batch_size=BATCH_SIZE, color_mode=COLOR_MODE)\n"
      ],
      "metadata": {
        "colab": {
          "base_uri": "https://localhost:8080/"
        },
        "id": "Sgx6rUzZK7JI",
        "outputId": "77116fab-6361-48dd-bdb4-d2a32b55dbac"
      },
      "execution_count": 4,
      "outputs": [
        {
          "output_type": "stream",
          "name": "stdout",
          "text": [
            "Found 200 files belonging to 5 classes.\n",
            "Using 160 files for training.\n",
            "-------------------------\n",
            "Found 40 files belonging to 5 classes.\n"
          ]
        }
      ]
    },
    {
      "cell_type": "code",
      "source": [
        "class_names = train_data.class_names\n",
        "class_names"
      ],
      "metadata": {
        "colab": {
          "base_uri": "https://localhost:8080/"
        },
        "id": "YnKr-2WbM2Zo",
        "outputId": "1191dc77-665c-45ae-b409-a0b37380b86b"
      },
      "execution_count": 5,
      "outputs": [
        {
          "output_type": "execute_result",
          "data": {
            "text/plain": [
              "['personA', 'personB', 'personC', 'personD', 'personE']"
            ]
          },
          "metadata": {},
          "execution_count": 5
        }
      ]
    },
    {
      "cell_type": "code",
      "source": [
        "batch = train_data.as_numpy_iterator().next()"
      ],
      "metadata": {
        "id": "0l2Q5BnCM58a"
      },
      "execution_count": 6,
      "outputs": []
    },
    {
      "cell_type": "code",
      "source": [
        "for i in range(len(batch[0])):\n",
        "  cv2_imshow(batch[0][i])\n",
        "  print(train_data.class_names[batch[1][i]])\n",
        "  "
      ],
      "metadata": {
        "id": "hWk3O48sNPkq"
      },
      "execution_count": null,
      "outputs": []
    },
    {
      "cell_type": "code",
      "source": [
        "num_classes = len(class_names)\n",
        "\n",
        "model = keras.Sequential([\n",
        "  keras.layers.Rescaling(1./255, input_shape=(*IMG_SIZE, 1)),\n",
        "  keras.layers.Conv2D(8, (3,3), padding='same', activation='relu', name=\"CONV1\"),\n",
        "  keras.layers.MaxPooling2D(),\n",
        "  keras.layers.Conv2D(16, (3,3), padding='same', activation='relu', name=\"CONV2\"),\n",
        "  keras.layers.MaxPooling2D(),\n",
        "  keras.layers.Conv2D(32, (3,3), padding='same', activation='relu', name=\"CONV3\"),\n",
        "  keras.layers.MaxPooling2D(),\n",
        "  keras.layers.Dropout(0.2),\n",
        "  keras.layers.Flatten(),\n",
        "  keras.layers.Dense(32, activation='relu'),\n",
        "  keras.layers.Dense(num_classes)\n",
        "])\n"
      ],
      "metadata": {
        "id": "LU6CoOygO3Tm"
      },
      "execution_count": 11,
      "outputs": []
    },
    {
      "cell_type": "code",
      "source": [
        "model.compile(optimizer='adam',\n",
        "              loss=tf.keras.losses.SparseCategoricalCrossentropy(from_logits=True),\n",
        "              metrics=['accuracy'])\n"
      ],
      "metadata": {
        "id": "lFz8IR7bQ32P"
      },
      "execution_count": 12,
      "outputs": []
    },
    {
      "cell_type": "code",
      "source": [
        "model.summary()"
      ],
      "metadata": {
        "id": "G3Ffa5Q6SV4f",
        "colab": {
          "base_uri": "https://localhost:8080/"
        },
        "outputId": "bfc43207-f707-48b9-ed05-bb738ca7c7db"
      },
      "execution_count": 13,
      "outputs": [
        {
          "output_type": "stream",
          "name": "stdout",
          "text": [
            "Model: \"sequential\"\n",
            "_________________________________________________________________\n",
            " Layer (type)                Output Shape              Param #   \n",
            "=================================================================\n",
            " rescaling (Rescaling)       (None, 256, 256, 1)       0         \n",
            "                                                                 \n",
            " CONV1 (Conv2D)              (None, 256, 256, 8)       80        \n",
            "                                                                 \n",
            " max_pooling2d (MaxPooling2D  (None, 128, 128, 8)      0         \n",
            " )                                                               \n",
            "                                                                 \n",
            " CONV2 (Conv2D)              (None, 128, 128, 16)      1168      \n",
            "                                                                 \n",
            " max_pooling2d_1 (MaxPooling  (None, 64, 64, 16)       0         \n",
            " 2D)                                                             \n",
            "                                                                 \n",
            " CONV3 (Conv2D)              (None, 64, 64, 32)        4640      \n",
            "                                                                 \n",
            " max_pooling2d_2 (MaxPooling  (None, 32, 32, 32)       0         \n",
            " 2D)                                                             \n",
            "                                                                 \n",
            " dropout (Dropout)           (None, 32, 32, 32)        0         \n",
            "                                                                 \n",
            " flatten (Flatten)           (None, 32768)             0         \n",
            "                                                                 \n",
            " dense (Dense)               (None, 32)                1048608   \n",
            "                                                                 \n",
            " dense_1 (Dense)             (None, 5)                 165       \n",
            "                                                                 \n",
            "=================================================================\n",
            "Total params: 1,054,661\n",
            "Trainable params: 1,054,661\n",
            "Non-trainable params: 0\n",
            "_________________________________________________________________\n"
          ]
        }
      ]
    },
    {
      "cell_type": "code",
      "source": [
        "model_checkpoint_callback = tf.keras.callbacks.ModelCheckpoint(\n",
        "    \"checkpoints/e{epoch:02d}-acc{accuracy:.2f}.hdf5\",\n",
        "    monitor='accuracy',\n",
        "    mode='max',\n",
        "    initial_value_threshold=0.85,\n",
        "    save_best_only=True)\n"
      ],
      "metadata": {
        "id": "PISVsw8CX1rW"
      },
      "execution_count": 15,
      "outputs": []
    },
    {
      "cell_type": "code",
      "source": [
        "epochs=7\n",
        "model.fit(train_data, epochs=epochs, callbacks=[model_checkpoint_callback])"
      ],
      "metadata": {
        "colab": {
          "base_uri": "https://localhost:8080/"
        },
        "id": "SldsYog_S59m",
        "outputId": "f4ccc104-386d-45ad-d271-fe61f43cf73c"
      },
      "execution_count": 16,
      "outputs": [
        {
          "output_type": "stream",
          "name": "stdout",
          "text": [
            "Epoch 1/7\n",
            "5/5 [==============================] - 6s 944ms/step - loss: 1.6021 - accuracy: 0.2625\n",
            "Epoch 2/7\n",
            "5/5 [==============================] - 5s 987ms/step - loss: 1.2723 - accuracy: 0.5562\n",
            "Epoch 3/7\n",
            "5/5 [==============================] - 5s 936ms/step - loss: 0.8463 - accuracy: 0.8313\n",
            "Epoch 4/7\n",
            "5/5 [==============================] - 6s 1s/step - loss: 0.4821 - accuracy: 0.8875\n",
            "Epoch 5/7\n",
            "5/5 [==============================] - 5s 953ms/step - loss: 0.1735 - accuracy: 0.9875\n",
            "Epoch 6/7\n",
            "5/5 [==============================] - 5s 949ms/step - loss: 0.0518 - accuracy: 1.0000\n",
            "Epoch 7/7\n",
            "5/5 [==============================] - 5s 933ms/step - loss: 0.0150 - accuracy: 1.0000\n"
          ]
        },
        {
          "output_type": "execute_result",
          "data": {
            "text/plain": [
              "<keras.callbacks.History at 0x7fa1799cf3d0>"
            ]
          },
          "metadata": {},
          "execution_count": 16
        }
      ]
    },
    {
      "cell_type": "code",
      "source": [
        "model2 = keras.models.load_model('/content/checkpoints/e06-acc1.00.hdf5')"
      ],
      "metadata": {
        "id": "tX9x61OGfpgd"
      },
      "execution_count": 21,
      "outputs": []
    },
    {
      "cell_type": "code",
      "source": [
        "loss, acc = model2.evaluate(test_data, verbose=2)\n",
        "print(\"trained model, accuracy: {:5.2f}%\".format(100 * acc))\n",
        "\n",
        "loss, acc = model.evaluate(test_data, verbose=2)\n",
        "print(\"trained model, accuracy: {:5.2f}%\".format(100 * acc))"
      ],
      "metadata": {
        "colab": {
          "base_uri": "https://localhost:8080/"
        },
        "id": "GeRkjLelgZ9X",
        "outputId": "dffb404d-20f6-4450-b677-f1b95f2f9697"
      },
      "execution_count": 25,
      "outputs": [
        {
          "output_type": "stream",
          "name": "stdout",
          "text": [
            "2/2 - 0s - loss: 0.0978 - accuracy: 0.9750 - 481ms/epoch - 241ms/step\n",
            "trained model, accuracy: 97.50%\n",
            "2/2 - 0s - loss: 0.0454 - accuracy: 1.0000 - 497ms/epoch - 248ms/step\n",
            "trained model, accuracy: 100.00%\n"
          ]
        }
      ]
    },
    {
      "cell_type": "code",
      "source": [
        "model2 = keras.models.load_model('/content/good_model.hdf5')"
      ],
      "metadata": {
        "id": "-0HJupUAgcXX"
      },
      "execution_count": 27,
      "outputs": []
    },
    {
      "cell_type": "code",
      "source": [
        "loss, acc = model2.evaluate(test_data, verbose=2)\n",
        "print(\"trained model, accuracy: {:5.2f}%\".format(100 * acc))\n"
      ],
      "metadata": {
        "colab": {
          "base_uri": "https://localhost:8080/"
        },
        "id": "AhNVFs8ZL6q8",
        "outputId": "128a0c39-25fb-4c46-da19-e86986c23396"
      },
      "execution_count": 28,
      "outputs": [
        {
          "output_type": "stream",
          "name": "stdout",
          "text": [
            "2/2 - 1s - loss: 0.0454 - accuracy: 1.0000 - 683ms/epoch - 341ms/step\n",
            "trained model, accuracy: 100.00%\n"
          ]
        }
      ]
    },
    {
      "cell_type": "code",
      "source": [],
      "metadata": {
        "id": "lD8u3YqEMGRK"
      },
      "execution_count": null,
      "outputs": []
    }
  ]
}