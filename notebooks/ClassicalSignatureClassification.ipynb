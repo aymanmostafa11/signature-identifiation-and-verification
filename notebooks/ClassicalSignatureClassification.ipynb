{
  "nbformat": 4,
  "nbformat_minor": 0,
  "metadata": {
    "colab": {
      "provenance": []
    },
    "kernelspec": {
      "name": "python3",
      "display_name": "Python 3"
    },
    "language_info": {
      "name": "python"
    }
  },
  "cells": [
    {
      "cell_type": "code",
      "execution_count": 1,
      "metadata": {
        "id": "rquAU8lg3O5d"
      },
      "outputs": [],
      "source": [
        "%%capture\n",
        "!unzip \"/content/drive/MyDrive/Edu/CV/ProjectData/train_test_dataset.zip\" -d \"data\""
      ]
    },
    {
      "cell_type": "code",
      "source": [
        "import cv2\n",
        "import numpy as np\n",
        "import pandas as pd\n",
        "from google.colab.patches import cv2_imshow\n",
        "import tensorflow as tf\n",
        "import tensorflow.keras.utils as utils\n",
        "from sklearn.cluster import KMeans\n",
        "from sklearn.ensemble import RandomForestClassifier\n",
        "from sklearn.tree import DecisionTreeClassifier\n",
        "from sklearn.metrics import confusion_matrix, ConfusionMatrixDisplay\n",
        "\n",
        "import matplotlib.pyplot as plt\n",
        "import seaborn as sns"
      ],
      "metadata": {
        "id": "CUxKfo3U3Zu7"
      },
      "execution_count": 213,
      "outputs": []
    },
    {
      "cell_type": "code",
      "source": [
        "BATCH_SIZE = 32\n",
        "COLOR_MODE = \"rgb\"\n",
        "IMG_SIZE = (256, 256)\n",
        "IMG_DEPTH = 3 if COLOR_MODE == \"rgb\" else 1"
      ],
      "metadata": {
        "id": "kVdbVAIGyyAs"
      },
      "execution_count": 118,
      "outputs": []
    },
    {
      "cell_type": "code",
      "source": [
        "train_path = \"/content/data/train_test_dataset/train\"\n",
        "test_path = \"/content/data/train_test_dataset/test\""
      ],
      "metadata": {
        "id": "ORoqU-xqziUN"
      },
      "execution_count": 119,
      "outputs": []
    },
    {
      "cell_type": "code",
      "source": [
        "train_data = utils.image_dataset_from_directory(train_path,subset='training' ,validation_split=0.2, seed = 42, image_size=IMG_SIZE, batch_size=BATCH_SIZE,\n",
        "                                                color_mode=COLOR_MODE)\n",
        "valid = utils.image_dataset_from_directory(train_path,subset='validation' ,validation_split=0.2, seed = 42,  image_size=IMG_SIZE, batch_size=BATCH_SIZE,\n",
        "                                           color_mode=COLOR_MODE) "
      ],
      "metadata": {
        "colab": {
          "base_uri": "https://localhost:8080/"
        },
        "id": "AVt0FkSzzfEY",
        "outputId": "04506c5e-a66f-4f3e-a844-7f34cf0fa100"
      },
      "execution_count": 209,
      "outputs": [
        {
          "output_type": "stream",
          "name": "stdout",
          "text": [
            "Found 200 files belonging to 5 classes.\n",
            "Using 160 files for training.\n",
            "Found 200 files belonging to 5 classes.\n",
            "Using 40 files for validation.\n"
          ]
        }
      ]
    },
    {
      "cell_type": "code",
      "source": [
        "label_map = {i:name for i, name in enumerate(train_data.class_names)}"
      ],
      "metadata": {
        "id": "92c0JTzTBYt9"
      },
      "execution_count": 216,
      "outputs": []
    },
    {
      "cell_type": "code",
      "source": [
        "def get_numpy_from_tf_data(data):\n",
        "  images_, labels_ = tuple(zip(*data))\n",
        "  images_ = np.vstack(images_).astype(np.uint8)\n",
        "  labels_ = np.hstack(labels_).reshape(-1,1).squeeze()\n",
        "\n",
        "  return images_, labels_"
      ],
      "metadata": {
        "id": "uRqLadUXCgTc"
      },
      "execution_count": 261,
      "outputs": []
    },
    {
      "cell_type": "code",
      "source": [
        "images, labels = get_numpy_from_tf_data(train_data)"
      ],
      "metadata": {
        "id": "hfMEygvA3Xq_"
      },
      "execution_count": 290,
      "outputs": []
    },
    {
      "cell_type": "code",
      "source": [
        "valid_img, valid_labels = get_numpy_from_tf_data(valid)"
      ],
      "metadata": {
        "id": "PnOB_4GACrTf"
      },
      "execution_count": 262,
      "outputs": []
    },
    {
      "cell_type": "code",
      "source": [
        "def extract_sift_features(img, sift:cv2.SIFT):\n",
        "  try:\n",
        "    kps, desc = sift.detectAndCompute(img, None)\n",
        "    return desc\n",
        "  except Exception as e:\n",
        "    print(f\"img: {img.shape}, {e}\")\n",
        "  "
      ],
      "metadata": {
        "id": "MLTZP6gX3x2w"
      },
      "execution_count": 123,
      "outputs": []
    },
    {
      "cell_type": "code",
      "source": [
        "def get_data_features(images):\n",
        "  sift = cv2.SIFT_create()\n",
        "\n",
        "  img_desc_limits = []\n",
        "  features = []\n",
        "  for img in images:\n",
        "    img_feats = extract_sift_features(img, sift)\n",
        "\n",
        "    features.append(img_feats)\n",
        "    img_desc_limits.append(len(img_feats))\n",
        "  return features, img_desc_limits"
      ],
      "metadata": {
        "id": "toigoZHA51XA"
      },
      "execution_count": 162,
      "outputs": []
    },
    {
      "cell_type": "code",
      "source": [
        "def format_as_train_data(features):\n",
        "  return np.vstack(features)"
      ],
      "metadata": {
        "id": "cuiKCXHnwx04"
      },
      "execution_count": 163,
      "outputs": []
    },
    {
      "cell_type": "code",
      "source": [
        "def bow_from_predictions(pred, img_desc_limits, image_count):\n",
        "  accum_sum = 0\n",
        "  bow = []\n",
        "  for i in range(image_count):\n",
        "    desc_indx_start = accum_sum\n",
        "    desc_indx_end = accum_sum + img_desc_limits[i]\n",
        "\n",
        "    img_descs = pred[desc_indx_start:desc_indx_end]\n",
        "\n",
        "    bow.append(np.histogram(img_descs, bins=NO_CLUSTERS)[0])\n",
        "\n",
        "    accum_sum += img_desc_limits[i]\n",
        "  \n",
        "  return np.vstack(bow)\n"
      ],
      "metadata": {
        "id": "d1m_LiX1Fqum"
      },
      "execution_count": 273,
      "outputs": []
    },
    {
      "cell_type": "code",
      "source": [
        "NO_CLUSTERS = 50\n",
        "kmeans = KMeans(NO_CLUSTERS)"
      ],
      "metadata": {
        "id": "pVIFgIKcFZwj"
      },
      "execution_count": 669,
      "outputs": []
    },
    {
      "cell_type": "code",
      "source": [
        "def imgs_to_bow(imgs, validation=False):\n",
        "  features, img_desc_limits = get_data_features(imgs)\n",
        "  X = format_as_train_data(features)\n",
        "  print(f\"Clustering data shape: {X.shape}\")\n",
        "\n",
        "  if not validation:\n",
        "    print(\"Fitting Kmeans..\")\n",
        "    kmeans.fit(X)\n",
        "\n",
        "  pred = kmeans.predict(X)\n",
        "\n",
        "  bow = bow_from_predictions(pred, img_desc_limits, imgs.shape[0])\n",
        "\n",
        "  return bow"
      ],
      "metadata": {
        "id": "km6CA-s2FKSz"
      },
      "execution_count": 670,
      "outputs": []
    },
    {
      "cell_type": "code",
      "source": [
        "bow = imgs_to_bow(images)"
      ],
      "metadata": {
        "colab": {
          "base_uri": "https://localhost:8080/"
        },
        "id": "fI_PqmreHv9a",
        "outputId": "41ce9577-d0c3-484e-8d3c-552b3a5992e4"
      },
      "execution_count": 671,
      "outputs": [
        {
          "output_type": "stream",
          "name": "stdout",
          "text": [
            "Clustering data shape: (23980, 128)\n",
            "Fitting Kmeans..\n"
          ]
        }
      ]
    },
    {
      "cell_type": "code",
      "source": [
        "valid_bow = imgs_to_bow(valid_img, validation=True)"
      ],
      "metadata": {
        "colab": {
          "base_uri": "https://localhost:8080/"
        },
        "id": "naM7TOqJGFTh",
        "outputId": "49e28438-f43d-4ac6-a67c-6c8a7aaf7b84"
      },
      "execution_count": 677,
      "outputs": [
        {
          "output_type": "stream",
          "name": "stdout",
          "text": [
            "Clustering data shape: (5454, 128)\n"
          ]
        }
      ]
    },
    {
      "cell_type": "markdown",
      "source": [
        "# Train Classifier on bow"
      ],
      "metadata": {
        "id": "BSjLlPmc-1Q3"
      }
    },
    {
      "cell_type": "code",
      "source": [
        "tree = DecisionTreeClassifier(max_depth=6)"
      ],
      "metadata": {
        "id": "GvEPe_mA-2zF"
      },
      "execution_count": 704,
      "outputs": []
    },
    {
      "cell_type": "code",
      "source": [
        "tree.fit(bow, labels)"
      ],
      "metadata": {
        "colab": {
          "base_uri": "https://localhost:8080/"
        },
        "id": "Lyo65_1d_AJ3",
        "outputId": "c8a18aa5-77ec-4e0c-f41b-d47c6ecd9bb7"
      },
      "execution_count": 705,
      "outputs": [
        {
          "output_type": "execute_result",
          "data": {
            "text/plain": [
              "DecisionTreeClassifier(max_depth=6)"
            ]
          },
          "metadata": {},
          "execution_count": 705
        }
      ]
    },
    {
      "cell_type": "code",
      "source": [
        "tree.score(bow, labels)"
      ],
      "metadata": {
        "colab": {
          "base_uri": "https://localhost:8080/"
        },
        "id": "5SL8UaLN_C3B",
        "outputId": "3f6e326a-87b1-4655-f8e8-1db4ad11d54d"
      },
      "execution_count": 706,
      "outputs": [
        {
          "output_type": "execute_result",
          "data": {
            "text/plain": [
              "0.89375"
            ]
          },
          "metadata": {},
          "execution_count": 706
        }
      ]
    },
    {
      "cell_type": "code",
      "source": [
        "tree.score(valid_bow, valid_labels)"
      ],
      "metadata": {
        "colab": {
          "base_uri": "https://localhost:8080/"
        },
        "id": "4SkZCbVFHEk8",
        "outputId": "3a244835-4614-4de2-a3a0-75eae87bd096"
      },
      "execution_count": 707,
      "outputs": [
        {
          "output_type": "execute_result",
          "data": {
            "text/plain": [
              "0.8"
            ]
          },
          "metadata": {},
          "execution_count": 707
        }
      ]
    },
    {
      "cell_type": "code",
      "source": [
        "preds = tree.predict(valid_bow)\n",
        "ConfusionMatrixDisplay.from_predictions(valid_labels, preds, display_labels=train_data.class_names)"
      ],
      "metadata": {
        "colab": {
          "base_uri": "https://localhost:8080/",
          "height": 300
        },
        "id": "Cbkt91pmAZDo",
        "outputId": "b4187c42-11d7-418a-aaa0-4fea8851767a"
      },
      "execution_count": 708,
      "outputs": [
        {
          "output_type": "execute_result",
          "data": {
            "text/plain": [
              "<sklearn.metrics._plot.confusion_matrix.ConfusionMatrixDisplay at 0x7f48054ae0a0>"
            ]
          },
          "metadata": {},
          "execution_count": 708
        },
        {
          "output_type": "display_data",
          "data": {
            "text/plain": [
              "<Figure size 432x288 with 2 Axes>"
            ],
            "image/png": "[encoded data removed]"
          },
          "metadata": {
            "needs_background": "light"
          }
        }
      ]
    },
    {
      "cell_type": "code",
      "source": [],
      "metadata": {
        "id": "g9r38YAuB2sB"
      },
      "execution_count": null,
      "outputs": []
    },
    {
      "cell_type": "markdown",
      "source": [
        "# Random Forset Classifier"
      ],
      "metadata": {
        "id": "DMoLFqxlIbHg"
      }
    },
    {
      "cell_type": "code",
      "source": [
        "forest = RandomForestClassifier(max_depth=2, n_estimators=140)"
      ],
      "metadata": {
        "id": "6RecUIMoIcdr"
      },
      "execution_count": 745,
      "outputs": []
    },
    {
      "cell_type": "code",
      "source": [
        "forest.fit(bow, labels)"
      ],
      "metadata": {
        "colab": {
          "base_uri": "https://localhost:8080/"
        },
        "id": "hYyN70RcIgaZ",
        "outputId": "5c7547ea-b4b0-4719-de7e-ca68b475e10c"
      },
      "execution_count": 746,
      "outputs": [
        {
          "output_type": "execute_result",
          "data": {
            "text/plain": [
              "RandomForestClassifier(max_depth=2, n_estimators=140)"
            ]
          },
          "metadata": {},
          "execution_count": 746
        }
      ]
    },
    {
      "cell_type": "code",
      "source": [
        "forest.score(bow, labels)"
      ],
      "metadata": {
        "colab": {
          "base_uri": "https://localhost:8080/"
        },
        "id": "Ne8PgstNIjc9",
        "outputId": "d0264301-c259-4416-bb94-59fa630ddcd5"
      },
      "execution_count": 747,
      "outputs": [
        {
          "output_type": "execute_result",
          "data": {
            "text/plain": [
              "0.9"
            ]
          },
          "metadata": {},
          "execution_count": 747
        }
      ]
    },
    {
      "cell_type": "code",
      "source": [
        "forest.score(valid_bow, valid_labels)"
      ],
      "metadata": {
        "colab": {
          "base_uri": "https://localhost:8080/"
        },
        "id": "Slui1BkUImKy",
        "outputId": "d7a6ca84-2b59-43f4-fb2f-27b9516b396a"
      },
      "execution_count": 748,
      "outputs": [
        {
          "output_type": "execute_result",
          "data": {
            "text/plain": [
              "0.875"
            ]
          },
          "metadata": {},
          "execution_count": 748
        }
      ]
    },
    {
      "cell_type": "code",
      "source": [
        "valid_preds = forest.predict(valid_bow)\n",
        "ConfusionMatrixDisplay.from_predictions(valid_labels, valid_preds, display_labels=train_data.class_names)"
      ],
      "metadata": {
        "colab": {
          "base_uri": "https://localhost:8080/",
          "height": 300
        },
        "id": "6WOTrcGgIpqS",
        "outputId": "bb36e45e-c302-41c8-bae3-a88e9e8f7389"
      },
      "execution_count": 749,
      "outputs": [
        {
          "output_type": "execute_result",
          "data": {
            "text/plain": [
              "<sklearn.metrics._plot.confusion_matrix.ConfusionMatrixDisplay at 0x7f480556b430>"
            ]
          },
          "metadata": {},
          "execution_count": 749
        },
        {
          "output_type": "display_data",
          "data": {
            "text/plain": [
              "<Figure size 432x288 with 2 Axes>"
            ],
            "image/png": "[encoded data removed]"
          },
          "metadata": {
            "needs_background": "light"
          }
        }
      ]
    },
    {
      "cell_type": "code",
      "source": [],
      "metadata": {
        "id": "cFSDqXvwI1-F"
      },
      "execution_count": null,
      "outputs": []
    },
    {
      "cell_type": "markdown",
      "source": [
        "# AdaBoost Classifier"
      ],
      "metadata": {
        "id": "uLiJmhtVJJMt"
      }
    },
    {
      "cell_type": "code",
      "source": [
        "from sklearn.ensemble import AdaBoostClassifier"
      ],
      "metadata": {
        "id": "NUj-Xac3JLrl"
      },
      "execution_count": 750,
      "outputs": []
    },
    {
      "cell_type": "code",
      "source": [
        "ada = AdaBoostClassifier(learning_rate=0.01,n_estimators=120)"
      ],
      "metadata": {
        "id": "6xaOWnxcJS6b"
      },
      "execution_count": 785,
      "outputs": []
    },
    {
      "cell_type": "code",
      "source": [
        "ada.fit(bow, labels)"
      ],
      "metadata": {
        "colab": {
          "base_uri": "https://localhost:8080/"
        },
        "id": "lAKO_7zmJajW",
        "outputId": "ff5bd5bc-9b76-4853-8813-4eae33f915ca"
      },
      "execution_count": 786,
      "outputs": [
        {
          "output_type": "execute_result",
          "data": {
            "text/plain": [
              "AdaBoostClassifier(learning_rate=0.01, n_estimators=120)"
            ]
          },
          "metadata": {},
          "execution_count": 786
        }
      ]
    },
    {
      "cell_type": "code",
      "source": [
        "ada.score(bow, labels)"
      ],
      "metadata": {
        "colab": {
          "base_uri": "https://localhost:8080/"
        },
        "id": "PlL-ODGhJbh0",
        "outputId": "8d9e1a57-045e-42fd-b5e7-14071dc3dbc2"
      },
      "execution_count": 787,
      "outputs": [
        {
          "output_type": "execute_result",
          "data": {
            "text/plain": [
              "0.85"
            ]
          },
          "metadata": {},
          "execution_count": 787
        }
      ]
    },
    {
      "cell_type": "code",
      "source": [
        "ada.score(valid_bow, valid_labels)"
      ],
      "metadata": {
        "colab": {
          "base_uri": "https://localhost:8080/"
        },
        "id": "1AVli2lBJdtF",
        "outputId": "273b1903-ddf6-4f78-f85e-95d8b8bf1b1f"
      },
      "execution_count": 788,
      "outputs": [
        {
          "output_type": "execute_result",
          "data": {
            "text/plain": [
              "0.825"
            ]
          },
          "metadata": {},
          "execution_count": 788
        }
      ]
    },
    {
      "cell_type": "code",
      "source": [
        "valid_preds = ada.predict(valid_bow)\n",
        "ConfusionMatrixDisplay.from_predictions(valid_labels, valid_preds, display_labels=train_data.class_names)\n"
      ],
      "metadata": {
        "colab": {
          "base_uri": "https://localhost:8080/",
          "height": 300
        },
        "id": "qnMx9hyKJhUN",
        "outputId": "d466f41e-d49e-4a72-f2d0-935d19cf69b6"
      },
      "execution_count": 789,
      "outputs": [
        {
          "output_type": "execute_result",
          "data": {
            "text/plain": [
              "<sklearn.metrics._plot.confusion_matrix.ConfusionMatrixDisplay at 0x7f4804cea550>"
            ]
          },
          "metadata": {},
          "execution_count": 789
        },
        {
          "output_type": "display_data",
          "data": {
            "text/plain": [
              "<Figure size 432x288 with 2 Axes>"
            ],
            "image/png": "[encoded data removed]"
          },
          "metadata": {
            "needs_background": "light"
          }
        }
      ]
    },
    {
      "cell_type": "markdown",
      "source": [
        "# Gradient Boosting"
      ],
      "metadata": {
        "id": "1TC7LptfOl0U"
      }
    },
    {
      "cell_type": "code",
      "source": [
        "from sklearn.ensemble import GradientBoostingClassifier"
      ],
      "metadata": {
        "id": "pEfZRR_2Jquo"
      },
      "execution_count": 790,
      "outputs": []
    },
    {
      "cell_type": "code",
      "source": [
        "grad = GradientBoostingClassifier(learning_rate = 0.1,n_estimators=10, max_depth=2)"
      ],
      "metadata": {
        "id": "CLMAgXWPLR7D"
      },
      "execution_count": 851,
      "outputs": []
    },
    {
      "cell_type": "code",
      "source": [
        "grad.fit(bow,labels)"
      ],
      "metadata": {
        "colab": {
          "base_uri": "https://localhost:8080/"
        },
        "id": "cYWb-SDjLc6W",
        "outputId": "5961b705-0c35-4691-9195-09ecdf67450b"
      },
      "execution_count": 852,
      "outputs": [
        {
          "output_type": "execute_result",
          "data": {
            "text/plain": [
              "GradientBoostingClassifier(max_depth=2, n_estimators=10)"
            ]
          },
          "metadata": {},
          "execution_count": 852
        }
      ]
    },
    {
      "cell_type": "code",
      "source": [
        "grad.score(bow, labels)"
      ],
      "metadata": {
        "colab": {
          "base_uri": "https://localhost:8080/"
        },
        "id": "zihukGPCLfSc",
        "outputId": "1b0455db-4bc9-4a21-b7c1-c3ddba9a9e45"
      },
      "execution_count": 853,
      "outputs": [
        {
          "output_type": "execute_result",
          "data": {
            "text/plain": [
              "0.9125"
            ]
          },
          "metadata": {},
          "execution_count": 853
        }
      ]
    },
    {
      "cell_type": "code",
      "source": [
        "grad.score(valid_bow, valid_labels)"
      ],
      "metadata": {
        "colab": {
          "base_uri": "https://localhost:8080/"
        },
        "id": "lHxJWzbILg6b",
        "outputId": "66ef279c-e314-4f7a-a808-7032ea89c12c"
      },
      "execution_count": 854,
      "outputs": [
        {
          "output_type": "execute_result",
          "data": {
            "text/plain": [
              "0.825"
            ]
          },
          "metadata": {},
          "execution_count": 854
        }
      ]
    },
    {
      "cell_type": "markdown",
      "source": [
        "# SVM"
      ],
      "metadata": {
        "id": "afwnaJieOo-o"
      }
    },
    {
      "cell_type": "code",
      "source": [
        "from sklearn.svm import SVC"
      ],
      "metadata": {
        "id": "STL-ZXGOLjmV"
      },
      "execution_count": 660,
      "outputs": []
    },
    {
      "cell_type": "code",
      "source": [
        "svm = SVC()"
      ],
      "metadata": {
        "id": "RpVog8x0Oxxa"
      },
      "execution_count": 855,
      "outputs": []
    },
    {
      "cell_type": "code",
      "source": [
        "svm.fit(bow, labels)"
      ],
      "metadata": {
        "colab": {
          "base_uri": "https://localhost:8080/"
        },
        "id": "MfmAiqPzO2EG",
        "outputId": "fafb3cb1-6a36-46b5-e3f6-75f8dd6bb311"
      },
      "execution_count": 856,
      "outputs": [
        {
          "output_type": "execute_result",
          "data": {
            "text/plain": [
              "SVC()"
            ]
          },
          "metadata": {},
          "execution_count": 856
        }
      ]
    },
    {
      "cell_type": "code",
      "source": [
        "svm.score(bow, labels)"
      ],
      "metadata": {
        "colab": {
          "base_uri": "https://localhost:8080/"
        },
        "id": "EpcykVTtO4L3",
        "outputId": "00d24aa9-97fe-42d2-a816-83a225c40d48"
      },
      "execution_count": 857,
      "outputs": [
        {
          "output_type": "execute_result",
          "data": {
            "text/plain": [
              "0.925"
            ]
          },
          "metadata": {},
          "execution_count": 857
        }
      ]
    },
    {
      "cell_type": "code",
      "source": [
        "svm.score(valid_bow, valid_labels)"
      ],
      "metadata": {
        "colab": {
          "base_uri": "https://localhost:8080/"
        },
        "id": "psjuig59PA0T",
        "outputId": "77ceae2e-750f-4bd0-8ac7-dc31990203eb"
      },
      "execution_count": 858,
      "outputs": [
        {
          "output_type": "execute_result",
          "data": {
            "text/plain": [
              "0.85"
            ]
          },
          "metadata": {},
          "execution_count": 858
        }
      ]
    },
    {
      "cell_type": "code",
      "source": [],
      "metadata": {
        "id": "o5bQzXjSPD7e"
      },
      "execution_count": null,
      "outputs": []
    }
  ]
}