{
  "nbformat": 4,
  "nbformat_minor": 0,
  "metadata": {
    "colab": {
      "provenance": []
    },
    "kernelspec": {
      "name": "python3",
      "display_name": "Python 3"
    },
    "language_info": {
      "name": "python"
    },
    "gpuClass": "standard",
    "accelerator": "GPU"
  },
  "cells": [
    {
      "cell_type": "code",
      "execution_count": null,
      "metadata": {
        "id": "A7x2RN5ZWDev"
      },
      "outputs": [],
      "source": [
        "!unzip \"/content/drive/MyDrive/Edu/CV/ProjectData/train_test_dataset.zip\" -d \"data\""
      ]
    },
    {
      "cell_type": "code",
      "source": [
        "import glob"
      ],
      "metadata": {
        "id": "WBA-OZX3W0Pq"
      },
      "execution_count": 4,
      "outputs": []
    },
    {
      "cell_type": "code",
      "source": [
        "import numpy as np\n",
        "import tensorflow as tf\n",
        "import tensorflow.keras.utils as utils\n",
        "import cv2\n",
        "from google.colab.patches import cv2_imshow\n",
        "from tensorflow import keras"
      ],
      "metadata": {
        "id": "v6MiXCVUYIx2"
      },
      "execution_count": 5,
      "outputs": []
    },
    {
      "cell_type": "code",
      "source": [
        "print(tf.test.gpu_device_name())\n",
        "print(\"Num GPUs Available: \", len(tf.config.experimental.list_physical_devices('GPU')))"
      ],
      "metadata": {
        "colab": {
          "base_uri": "https://localhost:8080/"
        },
        "id": "_fEcLDU6seHu",
        "outputId": "6242e051-28ca-416d-d1b9-4fac197c175f"
      },
      "execution_count": 6,
      "outputs": [
        {
          "output_type": "stream",
          "name": "stdout",
          "text": [
            "/device:GPU:0\n",
            "Num GPUs Available:  1\n"
          ]
        }
      ]
    },
    {
      "cell_type": "code",
      "source": [
        "train_path = \"/content/data/train_test_dataset/train\"\n",
        "test_path =  \"/content/data/train_test_dataset/test\""
      ],
      "metadata": {
        "id": "9DWFfD4QxdqY"
      },
      "execution_count": 7,
      "outputs": []
    },
    {
      "cell_type": "code",
      "source": [
        "IMG_SIZE = (256, 256)\n",
        "BATCH_SIZE = 32\n",
        "COLOR_MODE = \"grayscale\""
      ],
      "metadata": {
        "id": "qVDCZ3J3zXeD"
      },
      "execution_count": 66,
      "outputs": []
    },
    {
      "cell_type": "code",
      "source": [
        "train_data = utils.image_dataset_from_directory(train_path,subset='training' ,validation_split=0.2, seed = 42, image_size=IMG_SIZE, batch_size=BATCH_SIZE,\n",
        "                                                color_mode=COLOR_MODE)\n",
        "valid = utils.image_dataset_from_directory(train_path,subset='validation' ,validation_split=0.2, seed = 42,  image_size=IMG_SIZE, batch_size=BATCH_SIZE,\n",
        "                                           color_mode=COLOR_MODE) \n",
        "complete_data = utils.image_dataset_from_directory(train_path, image_size=IMG_SIZE, batch_size=BATCH_SIZE,\n",
        "                                                   color_mode=COLOR_MODE)"
      ],
      "metadata": {
        "colab": {
          "base_uri": "https://localhost:8080/"
        },
        "id": "_B0hGo06ZMai",
        "outputId": "a5a86ed5-b760-41f6-d177-30026e24e652"
      },
      "execution_count": 67,
      "outputs": [
        {
          "output_type": "stream",
          "name": "stdout",
          "text": [
            "Found 200 files belonging to 5 classes.\n",
            "Using 160 files for training.\n",
            "Found 200 files belonging to 5 classes.\n",
            "Using 40 files for validation.\n",
            "Found 200 files belonging to 5 classes.\n"
          ]
        }
      ]
    },
    {
      "cell_type": "code",
      "source": [
        "test_data = utils.image_dataset_from_directory(test_path, seed = 42, image_size=IMG_SIZE, batch_size=BATCH_SIZE, color_mode=COLOR_MODE)\n"
      ],
      "metadata": {
        "colab": {
          "base_uri": "https://localhost:8080/"
        },
        "id": "_CFxCBD60UgM",
        "outputId": "7b7bb680-fd2b-4d5c-8e0e-59fdf62771e7"
      },
      "execution_count": 68,
      "outputs": [
        {
          "output_type": "stream",
          "name": "stdout",
          "text": [
            "Found 40 files belonging to 5 classes.\n"
          ]
        }
      ]
    },
    {
      "cell_type": "code",
      "source": [
        "batch = train_data.as_numpy_iterator().next()"
      ],
      "metadata": {
        "id": "xOLMnOHcb3SM"
      },
      "execution_count": 69,
      "outputs": []
    },
    {
      "cell_type": "code",
      "source": [
        "cv2_imshow(batch[0][0])"
      ],
      "metadata": {
        "colab": {
          "base_uri": "https://localhost:8080/",
          "height": 273
        },
        "id": "LHbs1Hafb63i",
        "outputId": "ce0631df-927b-48d1-b114-7f0b9a7ae5e6"
      },
      "execution_count": 70,
      "outputs": [
        {
          "output_type": "display_data",
          "data": {
            "text/plain": [
              "<PIL.Image.Image image mode=RGB size=256x256 at 0x7FC627CB9070>"
            ],
            "image/png": "[encoded data removed]"
          },
          "metadata": {}
        }
      ]
    },
    {
      "cell_type": "code",
      "source": [],
      "metadata": {
        "id": "war9tHcpZogz"
      },
      "execution_count": 70,
      "outputs": []
    },
    {
      "cell_type": "code",
      "source": [
        "model = keras.Sequential()\n",
        "model.add(keras.layers.Rescaling(1 / 255.0, input_shape=(*IMG_SIZE, 1)))\n",
        "model.add(keras.layers.Conv2D(8, (10,10), activation=keras.activations.relu))\n",
        "model.add(keras.layers.MaxPooling2D())\n",
        "model.add(keras.layers.Conv2D(16, (5,5), activation=keras.activations.relu))\n",
        "model.add(keras.layers.MaxPooling2D())\n",
        "model.add(keras.layers.Conv2D(32, (3,3), activation=keras.activations.relu))\n",
        "model.add(keras.layers.MaxPooling2D())\n",
        "model.add(keras.layers.Flatten())\n",
        "model.add(keras.layers.Dense(32, keras.activations.relu))\n",
        "model.add(keras.layers.Dense(5, keras.activations.softmax))"
      ],
      "metadata": {
        "id": "ot23TxrSaYgv"
      },
      "execution_count": 71,
      "outputs": []
    },
    {
      "cell_type": "code",
      "source": [
        "model.compile(keras.optimizers.Adam(),\n",
        "              loss=keras.losses.SparseCategoricalCrossentropy(), metrics=['accuracy'])"
      ],
      "metadata": {
        "id": "d_4lcZEFbbrb"
      },
      "execution_count": 72,
      "outputs": []
    },
    {
      "cell_type": "code",
      "source": [
        "model.summary()"
      ],
      "metadata": {
        "colab": {
          "base_uri": "https://localhost:8080/"
        },
        "id": "Y7CcbOdseSGP",
        "outputId": "1af4260a-3f76-4a43-838d-f1bb16464c7d"
      },
      "execution_count": 73,
      "outputs": [
        {
          "output_type": "stream",
          "name": "stdout",
          "text": [
            "Model: \"sequential_4\"\n",
            "_________________________________________________________________\n",
            " Layer (type)                Output Shape              Param #   \n",
            "=================================================================\n",
            " rescaling_4 (Rescaling)     (None, 256, 256, 1)       0         \n",
            "                                                                 \n",
            " conv2d_12 (Conv2D)          (None, 247, 247, 8)       808       \n",
            "                                                                 \n",
            " max_pooling2d_12 (MaxPoolin  (None, 123, 123, 8)      0         \n",
            " g2D)                                                            \n",
            "                                                                 \n",
            " conv2d_13 (Conv2D)          (None, 119, 119, 16)      3216      \n",
            "                                                                 \n",
            " max_pooling2d_13 (MaxPoolin  (None, 59, 59, 16)       0         \n",
            " g2D)                                                            \n",
            "                                                                 \n",
            " conv2d_14 (Conv2D)          (None, 57, 57, 32)        4640      \n",
            "                                                                 \n",
            " max_pooling2d_14 (MaxPoolin  (None, 28, 28, 32)       0         \n",
            " g2D)                                                            \n",
            "                                                                 \n",
            " flatten_4 (Flatten)         (None, 25088)             0         \n",
            "                                                                 \n",
            " dense_8 (Dense)             (None, 32)                802848    \n",
            "                                                                 \n",
            " dense_9 (Dense)             (None, 5)                 165       \n",
            "                                                                 \n",
            "=================================================================\n",
            "Total params: 811,677\n",
            "Trainable params: 811,677\n",
            "Non-trainable params: 0\n",
            "_________________________________________________________________\n"
          ]
        }
      ]
    },
    {
      "cell_type": "code",
      "source": [
        "model_checkpoint = keras.callbacks.ModelCheckpoint(\"checkpoints/e{epoch:02d}-loss{val_loss:.2f}.hdf5\",\n",
        "                                                   save_best_only = True,\n",
        "                                                   initial_value_threshold=0.35)"
      ],
      "metadata": {
        "id": "q_Jc4-mxriG0"
      },
      "execution_count": 74,
      "outputs": []
    },
    {
      "cell_type": "code",
      "source": [
        "model.fit(train_data, epochs=5, validation_data=valid, callbacks=[model_checkpoint])"
      ],
      "metadata": {
        "id": "K8rJAUh4fFGa",
        "colab": {
          "base_uri": "https://localhost:8080/"
        },
        "outputId": "b5870101-4b8d-4863-c132-657f0c14cbbf"
      },
      "execution_count": 76,
      "outputs": [
        {
          "output_type": "stream",
          "name": "stdout",
          "text": [
            "Epoch 1/5\n",
            "5/5 [==============================] - 1s 65ms/step - loss: 0.0273 - accuracy: 0.9937 - val_loss: 0.1673 - val_accuracy: 0.9500\n",
            "Epoch 2/5\n",
            "5/5 [==============================] - 1s 63ms/step - loss: 0.0097 - accuracy: 1.0000 - val_loss: 0.0647 - val_accuracy: 0.9750\n",
            "Epoch 3/5\n",
            "5/5 [==============================] - 1s 60ms/step - loss: 0.0034 - accuracy: 1.0000 - val_loss: 0.0533 - val_accuracy: 1.0000\n",
            "Epoch 4/5\n",
            "5/5 [==============================] - 1s 50ms/step - loss: 0.0065 - accuracy: 1.0000 - val_loss: 0.0898 - val_accuracy: 0.9750\n",
            "Epoch 5/5\n",
            "5/5 [==============================] - 1s 49ms/step - loss: 0.0014 - accuracy: 1.0000 - val_loss: 0.0771 - val_accuracy: 0.9500\n"
          ]
        },
        {
          "output_type": "execute_result",
          "data": {
            "text/plain": [
              "<keras.callbacks.History at 0x7fc627c25e80>"
            ]
          },
          "metadata": {},
          "execution_count": 76
        }
      ]
    },
    {
      "cell_type": "code",
      "source": [
        "model.fit(complete_data, epochs=1)\n",
        "model.evaluate(test_data)"
      ],
      "metadata": {
        "colab": {
          "base_uri": "https://localhost:8080/"
        },
        "id": "8S1vh0ic2TqW",
        "outputId": "9d0df2ee-cb68-4936-8f93-5f1eb1d4d46a"
      },
      "execution_count": 78,
      "outputs": [
        {
          "output_type": "stream",
          "name": "stdout",
          "text": [
            "7/7 [==============================] - 1s 27ms/step - loss: 0.0134 - accuracy: 0.9900\n",
            "2/2 [==============================] - 0s 10ms/step - loss: 0.2313 - accuracy: 0.9250\n"
          ]
        },
        {
          "output_type": "execute_result",
          "data": {
            "text/plain": [
              "[0.23127827048301697, 0.925000011920929]"
            ]
          },
          "metadata": {},
          "execution_count": 78
        }
      ]
    },
    {
      "cell_type": "code",
      "source": [],
      "metadata": {
        "id": "NvpDaK3VyfVl"
      },
      "execution_count": null,
      "outputs": []
    }
  ]
}