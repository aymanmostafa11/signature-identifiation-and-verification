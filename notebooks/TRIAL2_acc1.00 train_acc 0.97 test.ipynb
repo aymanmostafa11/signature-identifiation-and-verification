{
  "nbformat": 4,
  "nbformat_minor": 0,
  "metadata": {
    "colab": {
      "provenance": []
    },
    "kernelspec": {
      "name": "python3",
      "display_name": "Python 3"
    },
    "language_info": {
      "name": "python"
    }
  },
  "cells": [
    {
      "cell_type": "code",
      "execution_count": null,
      "metadata": {
        "id": "J61acoJ0EmL_"
      },
      "outputs": [],
      "source": [
        "!unzip train_test_dataset.zip -d data"
      ]
    },
    {
      "cell_type": "code",
      "source": [
        "import tensorflow as tf\n",
        "from tensorflow import keras\n",
        "import tensorflow.keras.utils as utils\n",
        "from google.colab.patches import cv2_imshow\n"
      ],
      "metadata": {
        "id": "Z_hzBAtUFE9v"
      },
      "execution_count": 33,
      "outputs": []
    },
    {
      "cell_type": "code",
      "source": [
        "BATCH_SIZE = 32\n",
        "IMG_SIZE = (256, 256)\n",
        "SEED = 42\n",
        "COLOR_MODE = \"grayscale\"\n",
        "\n",
        "train_path = \"/content/data/train_test_dataset/train\"\n",
        "test_path =  \"/content/data/train_test_dataset/test\""
      ],
      "metadata": {
        "id": "rnhTMJ2fHoza"
      },
      "execution_count": 6,
      "outputs": []
    },
    {
      "cell_type": "code",
      "source": [
        "train_data = utils.image_dataset_from_directory(train_path,subset='training' ,validation_split=0.2, seed = 42, image_size=IMG_SIZE, batch_size=BATCH_SIZE,\n",
        "                                                color_mode=COLOR_MODE)\n",
        "print('-------------------------')\n",
        "test_data = utils.image_dataset_from_directory(test_path, seed = 42, image_size=IMG_SIZE, batch_size=BATCH_SIZE, color_mode=COLOR_MODE)\n"
      ],
      "metadata": {
        "colab": {
          "base_uri": "https://localhost:8080/"
        },
        "id": "Sgx6rUzZK7JI",
        "outputId": "1d775e91-52c7-48c5-c17b-a4a5ddf1fa04"
      },
      "execution_count": 16,
      "outputs": [
        {
          "output_type": "stream",
          "name": "stdout",
          "text": [
            "Found 200 files belonging to 5 classes.\n",
            "Using 160 files for training.\n",
            "-------------------------\n",
            "Found 40 files belonging to 5 classes.\n"
          ]
        }
      ]
    },
    {
      "cell_type": "code",
      "source": [
        "class_names = train_data.class_names\n",
        "class_names"
      ],
      "metadata": {
        "colab": {
          "base_uri": "https://localhost:8080/"
        },
        "id": "YnKr-2WbM2Zo",
        "outputId": "f21f7891-35f9-4244-c66b-22c981e40b06"
      },
      "execution_count": 40,
      "outputs": [
        {
          "output_type": "execute_result",
          "data": {
            "text/plain": [
              "['personA', 'personB', 'personC', 'personD', 'personE']"
            ]
          },
          "metadata": {},
          "execution_count": 40
        }
      ]
    },
    {
      "cell_type": "code",
      "source": [
        "batch = train_data.as_numpy_iterator().next()"
      ],
      "metadata": {
        "id": "0l2Q5BnCM58a"
      },
      "execution_count": 25,
      "outputs": []
    },
    {
      "cell_type": "code",
      "source": [
        "for i in range(len(batch[0])):\n",
        "  cv2_imshow(batch[0][i])\n",
        "  print(train_data.class_names[batch[1][i]])"
      ],
      "metadata": {
        "id": "hWk3O48sNPkq"
      },
      "execution_count": null,
      "outputs": []
    },
    {
      "cell_type": "code",
      "source": [
        "num_classes = len(class_names)\n",
        "\n",
        "model = keras.Sequential([\n",
        "  keras.layers.Rescaling(1./255, input_shape=(*IMG_SIZE, 1)),\n",
        "  keras.layers.Conv2D(8, (3,3), padding='same', activation='relu', name=\"CONV1\"),\n",
        "  keras.layers.MaxPooling2D(),\n",
        "  keras.layers.Conv2D(16, (3,3), padding='same', activation='relu', name=\"CONV2\"),\n",
        "  keras.layers.MaxPooling2D(),\n",
        "  keras.layers.Conv2D(32, (3,3), padding='same', activation='relu', name=\"CONV3\"),\n",
        "  keras.layers.MaxPooling2D(),\n",
        "  keras.layers.Dropout(0.2),\n",
        "  keras.layers.Flatten(),\n",
        "  keras.layers.Dense(32, activation='relu'),\n",
        "  keras.layers.Dense(num_classes)\n",
        "])\n"
      ],
      "metadata": {
        "id": "LU6CoOygO3Tm"
      },
      "execution_count": 119,
      "outputs": []
    },
    {
      "cell_type": "code",
      "source": [
        "model.compile(optimizer='adam',\n",
        "              loss=tf.keras.losses.SparseCategoricalCrossentropy(from_logits=True),\n",
        "              metrics=['accuracy'])\n"
      ],
      "metadata": {
        "id": "lFz8IR7bQ32P"
      },
      "execution_count": 120,
      "outputs": []
    },
    {
      "cell_type": "code",
      "source": [
        "model.summary()"
      ],
      "metadata": {
        "id": "G3Ffa5Q6SV4f"
      },
      "execution_count": null,
      "outputs": []
    },
    {
      "cell_type": "code",
      "source": [
        "model_checkpoint_callback = tf.keras.callbacks.ModelCheckpoint(\n",
        "    \"checkpoints/e{epoch:02d}-acc{accuracy:.2f}.hdf5\",\n",
        "    monitor='accuracy',\n",
        "    mode='max',\n",
        "    save_weights_only=True,\n",
        "    save_best_only=True)\n"
      ],
      "metadata": {
        "id": "PISVsw8CX1rW"
      },
      "execution_count": 121,
      "outputs": []
    },
    {
      "cell_type": "code",
      "source": [
        "epochs=7\n",
        "model.fit(train_data, epochs=epochs, callbacks=[model_checkpoint_callback])"
      ],
      "metadata": {
        "colab": {
          "base_uri": "https://localhost:8080/"
        },
        "id": "SldsYog_S59m",
        "outputId": "d6a3fbd5-2b0a-4645-848e-9575eed94858"
      },
      "execution_count": 122,
      "outputs": [
        {
          "output_type": "stream",
          "name": "stdout",
          "text": [
            "Epoch 1/7\n",
            "5/5 [==============================] - 6s 963ms/step - loss: 2.0177 - accuracy: 0.2000\n",
            "Epoch 2/7\n",
            "5/5 [==============================] - 5s 956ms/step - loss: 1.4090 - accuracy: 0.5938\n",
            "Epoch 3/7\n",
            "5/5 [==============================] - 7s 1s/step - loss: 1.1309 - accuracy: 0.6812\n",
            "Epoch 4/7\n",
            "5/5 [==============================] - 5s 968ms/step - loss: 0.7897 - accuracy: 0.7063\n",
            "Epoch 5/7\n",
            "5/5 [==============================] - 5s 960ms/step - loss: 0.4128 - accuracy: 0.8813\n",
            "Epoch 6/7\n",
            "5/5 [==============================] - 5s 964ms/step - loss: 0.1521 - accuracy: 0.9875\n",
            "Epoch 7/7\n",
            "5/5 [==============================] - 5s 958ms/step - loss: 0.0369 - accuracy: 1.0000\n"
          ]
        },
        {
          "output_type": "execute_result",
          "data": {
            "text/plain": [
              "<keras.callbacks.History at 0x7f5f62010a30>"
            ]
          },
          "metadata": {},
          "execution_count": 122
        }
      ]
    },
    {
      "cell_type": "code",
      "source": [
        "model.evaluate(test_data)"
      ],
      "metadata": {
        "colab": {
          "base_uri": "https://localhost:8080/"
        },
        "id": "pQZkF4X5TZgt",
        "outputId": "cbcd5fbc-b4c3-4729-a7ed-1088854fa660"
      },
      "execution_count": 123,
      "outputs": [
        {
          "output_type": "stream",
          "name": "stdout",
          "text": [
            "2/2 [==============================] - 1s 84ms/step - loss: 0.1352 - accuracy: 0.9750\n"
          ]
        },
        {
          "output_type": "execute_result",
          "data": {
            "text/plain": [
              "[0.13517233729362488, 0.9750000238418579]"
            ]
          },
          "metadata": {},
          "execution_count": 123
        }
      ]
    },
    {
      "cell_type": "code",
      "source": [
        "def create_model():\n",
        "  model = keras.Sequential([\n",
        "    keras.layers.Rescaling(1./255, input_shape=(*IMG_SIZE, 1)),\n",
        "    keras.layers.Conv2D(8, (3,3), padding='same', activation='relu', name=\"CONV1\"),\n",
        "    keras.layers.MaxPooling2D(),\n",
        "    keras.layers.Conv2D(16, (3,3), padding='same', activation='relu', name=\"CONV2\"),\n",
        "    keras.layers.MaxPooling2D(),\n",
        "    keras.layers.Conv2D(32, (3,3), padding='same', activation='relu', name=\"CONV3\"),\n",
        "    keras.layers.MaxPooling2D(),\n",
        "    keras.layers.Dropout(0.2),\n",
        "    keras.layers.Flatten(),\n",
        "    keras.layers.Dense(32, activation='relu'),\n",
        "    keras.layers.Dense(5)\n",
        "  ])\n",
        "  model.compile(optimizer='adam',\n",
        "              loss=tf.keras.losses.SparseCategoricalCrossentropy(from_logits=True),\n",
        "              metrics=['accuracy'])\n",
        "\n",
        "  return model\n"
      ],
      "metadata": {
        "id": "X7Uq0gatT4FG"
      },
      "execution_count": 131,
      "outputs": []
    },
    {
      "cell_type": "code",
      "source": [
        "model2 = create_model()"
      ],
      "metadata": {
        "id": "tX9x61OGfpgd"
      },
      "execution_count": 132,
      "outputs": []
    },
    {
      "cell_type": "code",
      "source": [
        "model2.load_weights('/content/checkpoints/e07-acc1.00.hdf5')"
      ],
      "metadata": {
        "id": "5qPkJCybgRbe"
      },
      "execution_count": 133,
      "outputs": []
    },
    {
      "cell_type": "code",
      "source": [
        "loss, acc = model2.evaluate(test_data, verbose=2)\n",
        "print(\"Untrained model, accuracy: {:5.2f}%\".format(100 * acc))"
      ],
      "metadata": {
        "colab": {
          "base_uri": "https://localhost:8080/"
        },
        "id": "GeRkjLelgZ9X",
        "outputId": "75e2abdc-bb4b-4317-f0cf-70d0f38705be"
      },
      "execution_count": 135,
      "outputs": [
        {
          "output_type": "stream",
          "name": "stdout",
          "text": [
            "2/2 - 1s - loss: 0.1352 - accuracy: 0.9750 - 737ms/epoch - 368ms/step\n",
            "Untrained model, accuracy: 97.50%\n"
          ]
        }
      ]
    },
    {
      "cell_type": "code",
      "source": [],
      "metadata": {
        "id": "-0HJupUAgcXX"
      },
      "execution_count": null,
      "outputs": []
    }
  ]
}